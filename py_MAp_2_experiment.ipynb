{
  "cells": [
    {
      "cell_type": "markdown",
      "metadata": {
        "id": "0-zMkTZzeoPZ"
      },
      "source": [
        "# MAp: Mutation Accumulation (in plasmids)\n",
        "\n",
        "This code simulates a mutation accumulation experiment in bacterial cells that carry multiple copies of a plasmid. The simulation models the growth of a bacterial population over multiple generations, with each generation consisting of discrete time steps. Plasmid replication is modeled by replicating plasmids randomly until reaching the maximum plasmid copy number (PCN), and plasmid segregation is modeled by randomly partitioning plasmids to each daughter cell during cell division, with a probability of 0.5.\n",
        "\n",
        "The simulation tracks the number and identity of plasmids carried by each cell in the population over multiple generations. Mutations can occur during plasmid replication, leading to new plasmid variants with different properties. The simulation allows for different mutation rates and maximum numbers of plasmids per cell and can be run for multiple replicates to assess the stochasticity of the evolutionary process. The code generates output files containing the plasmid composition of each cell in the population over time, which can be analyzed to study the dynamics of plasmid evolution in bacterial populations. The code can be run in parallel to speed up simulations for different parameter values.\n",
        "\n",
        "The goal of this script is to simulate the dynamics of plasmid evolution in bacterial populations by comparing the opposing forces: an increase in the probability of mutation with an increase in PCN, and the enhanced probability of losing plasmids through segregational drift at higher PCN."
      ]
    },
    {
      "cell_type": "code",
      "execution_count": 1,
      "metadata": {
        "id": "So6jNJ79ejPS"
      },
      "outputs": [],
      "source": [
        "import copy\n",
        "from datetime import datetime\n",
        "import random\n",
        "import matplotlib.pyplot as plt\n",
        "from matplotlib.patches import Rectangle\n",
        "import numpy as np\n",
        "import os\n",
        "from matplotlib.ticker import MaxNLocator\n",
        "from collections import Counter\n",
        "import time\n",
        "import re\n",
        "import sys\n",
        "import pickle"
      ]
    },
    {
      "cell_type": "markdown",
      "metadata": {
        "id": "qTOUNbiwv6pI"
      },
      "source": [
        "## User-defined parameters"
      ]
    },
    {
      "cell_type": "code",
      "execution_count": 2,
      "metadata": {
        "id": "IW1sa1PxY4AY"
      },
      "outputs": [],
      "source": [
        "\n",
        "# Define the base path to the shared project directory\n",
        "base_path = '/content/drive/MyDrive/SYNC_Projects/MAp/'\n",
        "expe='test/' #'sim_dev_18e-7/'\n",
        "\n",
        "# num_generations: number of generations in the simulation\n",
        "num_generations = 24\n",
        "\n",
        "# num_reps: number of replicate simulations to run for each parameter value\n",
        "num_reps = 10\n",
        "\n",
        "# mut_rate: mutation rate per plasmid per generation\n",
        "mut_rate = 18e-7\n",
        "#mut_rate = 1e-3\n",
        "\n",
        "# num_days: number of days of simulated bacterial growth\n",
        "num_days = 60\n",
        "\n",
        "# maxexpe: maximum number of simulations before aborting\n",
        "maxexpe = 1e6\n",
        "\n",
        "# max_plasmids: a list of maximum plasmid copy numbers to simulate\n",
        "#max_plasmids = [1, 5, 10, 15, 20, 25, 30, 35, 40, 45, 50, 55, 60, 65, 70, 75, 80, 85, 90, 95, 100]\n",
        "max_plasmids = [1, 5, 10, 50, 100]\n"
      ]
    },
    {
      "cell_type": "markdown",
      "metadata": {
        "id": "kmVAW7wO_gxu"
      },
      "source": [
        "### Connect with Google Drive"
      ]
    },
    {
      "cell_type": "code",
      "execution_count": 3,
      "metadata": {
        "colab": {
          "base_uri": "https://localhost:8080/"
        },
        "id": "zhjWwZmNeGU0",
        "outputId": "3d3544bc-5978-4957-ae7a-82c34fd1d925"
      },
      "outputs": [
        {
          "output_type": "stream",
          "name": "stdout",
          "text": [
            "Mounted at /content/drive\n",
            "pathDATA: /content/drive/MyDrive/SYNC_Projects/MAp/data/\n",
            "pathSIM: /content/drive/MyDrive/SYNC_Projects/MAp/code/py-MAp/runs/\n",
            "pathCODE: /content/drive/MyDrive/SYNC_Projects/MAp/code/py-MAp/\n",
            "['Bacteria', 'Counter', 'Plasmid', 'Population', 'Rectangle', '__builtins__', '__cached__', '__doc__', '__file__', '__loader__', '__name__', '__package__', '__spec__', 'column', 'datetime', 'getCountFixedMuts', 'getCountLostMuts', 'getCountMuts', 'getCountNewMuts', 'getMutGenerations', 'importData', 'np', 'plotCountMutGenerations', 'plotMutDays', 'plotMutGenerations', 'plt', 'random', 'time']\n"
          ]
        }
      ],
      "source": [
        "from google.colab import drive\n",
        "drive.mount('/content/drive', force_remount=True)\n",
        "\n",
        "# Define relative paths from the base path\n",
        "pathDATA = os.path.join(base_path, 'data/')\n",
        "pathSIM = os.path.join(base_path, 'code/py-MAp/runs/')\n",
        "pathCODE = os.path.join(base_path, 'code/py-MAp/')\n",
        "sys.path.append(os.path.join(pathCODE))\n",
        "\n",
        "# Verify paths and imported data\n",
        "print(\"pathDATA:\", pathDATA)\n",
        "print(\"pathSIM:\", pathSIM)\n",
        "print(\"pathCODE:\", pathCODE)\n",
        "\n",
        "# Import functions\n",
        "import MAp"
      ]
    },
    {
      "cell_type": "markdown",
      "metadata": {
        "id": "C6CktqrSyJmz"
      },
      "source": [
        "# Simulation functions"
      ]
    },
    {
      "cell_type": "markdown",
      "metadata": {
        "id": "MGhUNjrm9270"
      },
      "source": [
        "The simulateTransfer() function is designed to model the dynamics of plasmids within bacterial populations over a set number of days and generations. This function simulates a serial dilution experiment, typically involving the transfer of a single bacterial cell after a specified number of generations. The parameters include the number of days (num_days), the number of generations per day (num_generations), the maximum number of plasmids a bacterium can carry (max_plasmids), the mutation rate (mut_rate), and the output directory (dirSIM). An optional parameter (irep) is used for specifying the iteration number.\n",
        "\n",
        "The function initiates by creating a single bacterium (B0) with given parameters like mutation rate and maximum plasmid count. A list of plasmids is generated and associated with this bacterium. This initial bacterium is then used to instantiate a population object (pop).\n",
        "\n",
        "As the simulation progresses, it iterates through the designated number of days and generations per day. Within each cycle, the grow() method of the Population class is invoked, performing tasks like plasmid replication and segregation for each bacterium in the population. Segregation events, if any, are recorded. After every generation, the relevant data is written to a text file.\n",
        "\n",
        "At the end of each day, the bacterial population undergoes a transfer, retaining only one bacterium to initiate the population for the next day. If the final population consists entirely of wild-type bacteria (no mutations), the output file is deleted and the simulation is re-run.\n",
        "\n",
        "The function ultimately returns the number of unsuccessful experiments, which are those that ended with a wild-type population (absence of mutations and segregation events)."
      ]
    },
    {
      "cell_type": "code",
      "execution_count": 4,
      "metadata": {
        "id": "X8gf8DKXE-j3"
      },
      "outputs": [],
      "source": [
        "def simulateTransfer(num_days, num_generations, max_plasmids, mut_rate, dirSIM='', irep=0):\n",
        "    \"\"\"\n",
        "    Simulate the transfer of bacterial cells over several days.\n",
        "\n",
        "    Parameters:\n",
        "        num_days: Number of days to simulate.\n",
        "        num_generations: Number of generations per day.\n",
        "        max_plasmids: Maximum number of plasmids in each bacteria.\n",
        "        mut_rate: Mutation rate.\n",
        "        dirSIM: Directory for saving simulation data.\n",
        "        irep: Iteration replicate number.\n",
        "    \"\"\"\n",
        "\n",
        "    # Initialize parameters for Bacteria class\n",
        "    this_id = 'B0'\n",
        "    this_parameters = {\n",
        "        \"mut_rate\": mut_rate,\n",
        "        \"max_plasmids\": max_plasmids,\n",
        "    }\n",
        "\n",
        "    # Create a list of Plasmid objects\n",
        "    plasmids = [MAp.Plasmid() for _ in range(max_plasmids)]\n",
        "\n",
        "    # Initialize Bacteria object\n",
        "    B0 = MAp.Bacteria(this_id, this_parameters)\n",
        "    B0.plasmids = plasmids\n",
        "\n",
        "    # Simulate plasmid behavior\n",
        "    B0.simulate_plasmids()\n",
        "\n",
        "    # Create Population object\n",
        "    pop = MAp.Population([B0])\n",
        "\n",
        "    # File path for saving simulation data\n",
        "    fileSIM = f\"{dirSIM}data/MAp_days{num_days}_gens{num_generations}_mut{mut_rate}_maxp{max_plasmids}_irep{irep}.txt\"\n",
        "\n",
        "    with open(fileSIM, 'w') as f:\n",
        "        for day in range(num_days):\n",
        "            for ti in range(num_generations):\n",
        "                str_mut = pop.grow()\n",
        "\n",
        "                if pop.is_segregant():  # No plasmids found\n",
        "                    return 0\n",
        "\n",
        "                # Write simulation data to file\n",
        "                str_row = f\"{day};{ti};{str_mut}\"\n",
        "                f.write(str_row)\n",
        "\n",
        "            # Reset population for the next day\n",
        "            Bi = pop.bacteria[0]\n",
        "            pop = MAp.Population([Bi])\n",
        "\n",
        "    # Check for mutations and remove file if none found\n",
        "    wt = pop.isWT()\n",
        "    if wt == 1:\n",
        "        os.remove(fileSIM)\n",
        "        return 0\n",
        "\n",
        "    return 1\n"
      ]
    },
    {
      "cell_type": "markdown",
      "metadata": {
        "id": "YnUdTtaR-94z"
      },
      "source": [
        "The **runExperiment()** function performs simulation experiments focused on bacterial and plasmid dynamics. It accepts two parameters: __max_plasmids__, which specifies the maximum number of plasmids that a single bacterium can have, and __verbose__, an optional Boolean flag that toggles progress messages during the simulation.\n",
        "\n",
        "Inside the function, two counters (__irep__ for repetitions and __nexpe__ for the number of experiments) are initiated along with an empty list (__experiment_results__) to collect results.\n",
        "\n",
        "In each loop iteration:\n",
        "\n",
        "1.   It checks if a simulation file corresponding to the current set of parameters already exists. If it does, the function loads the file; otherwise, it triggers a new simulation via **simulateTransfer()**.\n",
        "2.   If at least one mutation occurred during the simulation, the function processes the results to extract various statistics about mutations.\n",
        "3.   These statistics are recorded into a dictionary object and appended to __experiment_results__.\n",
        "\n",
        "At the end of all iterations, the variable __experiment_results__ list is saved to a .pkl file and returned for future analysis."
      ]
    },
    {
      "cell_type": "code",
      "execution_count": 5,
      "metadata": {
        "id": "LZv1gWkcfeh8"
      },
      "outputs": [],
      "source": [
        "\n",
        "def runExperiments(this_max_plasmids, verbose=False):\n",
        "\n",
        "\n",
        "    # Start timer\n",
        "    start_time = time.time()\n",
        "\n",
        "    # Initialize variables\n",
        "    experiment_results=[]\n",
        "    irep=0\n",
        "    nexpe=0\n",
        "\n",
        "    # Loop through repetitions and experiments\n",
        "    while irep<num_reps and nexpe<maxexpe:\n",
        "        # Create string pattern for simulation file name\n",
        "        str_pattern='MAp_days'+str(num_days)+'_gens'+str(num_generations)+'_mut'+str(mut_rate)+'_maxp'+str(this_max_plasmids)+'_irep'+str(irep)+'_'\n",
        "\n",
        "        # Check if simulation file exists\n",
        "        this_nexpe=0\n",
        "        dir = dirSIM+\"/data/\"\n",
        "        for filepath in os.listdir(dir):\n",
        "            if filepath.startswith(str_pattern):\n",
        "                this_nexpe = int(re.findall('[0-9]+', filepath)[-1])\n",
        "\n",
        "        if this_nexpe==0: #Simulation not found\n",
        "            # Run simulation if file not found\n",
        "            fileSIM=dirSIM+'data/MAp_days'+str(num_days)+'_gens'+str(num_generations)+'_mut'+str(mut_rate)+'_maxp'+str(this_max_plasmids)+'_irep'+str(irep)+'.txt'\n",
        "            eureka_n=simulateTransfer(num_days, num_generations, this_max_plasmids, mut_rate, dirSIM, irep)\n",
        "            if eureka_n>0:\n",
        "                # Print message if verbose\n",
        "                print('.', end = '')\n",
        "                if verbose:\n",
        "                    print(\"  %s: Simulation executed (nexpe=%s)\"%((irep+1), (nexpe+1)))\n",
        "\n",
        "        else: #Simulation found\n",
        "            # Load simulation file if found\n",
        "            fileSIM=dirSIM+'data/MAp_days'+str(num_days)+'_gens'+str(num_generations)+'_mut'+str(mut_rate)+'_maxp'+str(this_max_plasmids)+'_irep'+str(irep)+'_n'+str(this_nexpe)+'.txt'\n",
        "            eureka_n=this_nexpe\n",
        "            #irep=irep+1\n",
        "            nexpe=this_nexpe\n",
        "            if verbose:\n",
        "                print('  %s: Simulation loaded (nexpe=%s)'%((irep+1), this_nexpe))\n",
        "\n",
        "        if eureka_n>0: #Only if there was at least one mutation.\n",
        "            # Import data from simulation file\n",
        "            data_plasmids=MAp.importData(fileSIM)\n",
        "\n",
        "            # Extract mutation data\n",
        "            all_gens=range(0,num_generations*num_days)\n",
        "            rep_muts, rep_fixed_muts=MAp.getMutGenerations(data_plasmids, all_gens)\n",
        "\n",
        "            # Calculate mutation statistics\n",
        "            rep_results={}\n",
        "            rep_results['rep_count_muts']=MAp.getCountMuts(rep_muts)\n",
        "            rep_results['rep_count_fixed_muts']=MAp.getCountFixedMuts(rep_fixed_muts)\n",
        "            rep_results['rep_count_ht_muts']=rep_results['rep_count_muts']-rep_results['rep_count_fixed_muts']\n",
        "            rep_results['rep_count_new_muts']=MAp.getCountNewMuts(rep_muts)\n",
        "            rep_results['rep_cum_new_muts']=np.cumsum(rep_results['rep_count_new_muts'])\n",
        "            rep_results['rep_count_lost_muts']=MAp.getCountLostMuts(rep_muts)\n",
        "            rep_results['rep_cum_lost_muts']=np.cumsum(rep_results['rep_count_lost_muts'])\n",
        "\n",
        "            # Update counters\n",
        "            irep=irep+1\n",
        "            #nexpe=nexpe+eureka_n\n",
        "\n",
        "            nexpe=nexpe+1\n",
        "            #print(\"    irep=%s    nexpe=%s \"%(irep, nexpe))\n",
        "\n",
        "            rep_results['nexpe']=nexpe\n",
        "\n",
        "            experiment_results.append(rep_results)\n",
        "\n",
        "            if this_nexpe==0:\n",
        "              fileSIM_expe=(os.path.splitext(fileSIM)[0]+'_n'+str(nexpe)+'.txt')\n",
        "              os.rename(fileSIM, fileSIM_expe) #Rename file to store number of experiments performed\n",
        "\n",
        "              #this_nexpe = fileSIM_expe[fileSIM_expe.index('_n') + len('_n') : fileSIM_expe.index('.txt')] #Recover nexpe from file name\n",
        "              #print(this_nexpe)\n",
        "              nexpe=0\n",
        "        else:\n",
        "          nexpe=nexpe+1\n",
        "          #if nexpe%1e3==0:\n",
        "          #  print('.', end = '')\n",
        "          #  if nexpe%1e5==0:\n",
        "          #    print(' ',nexpe)\n",
        "\n",
        "    filePKL_expe=dirSIM+'data/MAp_days'+str(num_days)+'_gens'+str(num_generations)+'_mut'+str(mut_rate)+'_maxp'+str(this_max_plasmids)+'.pkl'\n",
        "    # Save the experiment_results to a .pkl file\n",
        "    with open(filePKL_expe, 'wb') as f:\n",
        "        pickle.dump(experiment_results, f)\n",
        "        print('Saving %s'%filePKL_expe)\n",
        "\n",
        "    return experiment_results\n"
      ]
    },
    {
      "cell_type": "code",
      "execution_count": 6,
      "metadata": {
        "id": "KxH91LUCpxVe"
      },
      "outputs": [],
      "source": [
        "dirSIM=pathSIM+expe\n",
        "#dirSIM='run' #uncomment to save data in new directory\n",
        "\n",
        "if not os.path.exists(dirSIM):\n",
        "  if not dirSIM:\n",
        "    dt = datetime.now()\n",
        "    now=dt.strftime(\"%H%M%S%f\") #ID: Timestamp\n",
        "    dirSIM=pathSIM+'_sim_%s/'%(now)\n",
        "\n",
        "  os.mkdir(dirSIM)\n",
        "  os.mkdir(dirSIM+'data/')\n",
        "  os.mkdir(dirSIM+'figures/')\n",
        "  print('mkdir '+dirSIM)"
      ]
    },
    {
      "cell_type": "markdown",
      "metadata": {
        "id": "ox9RFfFjikCj"
      },
      "source": [
        "## Run Simulation"
      ]
    },
    {
      "cell_type": "code",
      "execution_count": 7,
      "metadata": {
        "colab": {
          "base_uri": "https://localhost:8080/"
        },
        "id": "lyQpZypdiie0",
        "outputId": "3a6eab21-859c-47e6-c1de-e70874ccd751"
      },
      "outputs": [
        {
          "output_type": "stream",
          "name": "stdout",
          "text": [
            "*** max_plasmids= 1\n",
            "  1: Simulation loaded (nexpe=67)\n",
            ".  2: Simulation executed (nexpe=525)\n",
            ".  3: Simulation executed (nexpe=281)\n",
            ".  4: Simulation executed (nexpe=87)\n",
            ".  5: Simulation executed (nexpe=192)\n",
            ".  6: Simulation executed (nexpe=809)\n",
            ".  7: Simulation executed (nexpe=285)\n",
            ".  8: Simulation executed (nexpe=730)\n",
            ".  9: Simulation executed (nexpe=996)\n",
            ".  10: Simulation executed (nexpe=360)\n",
            "Saving /content/drive/MyDrive/SYNC_Projects/MAp/code/py-MAp/runs/test/data/MAp_days60_gens24_mut1.8e-06_maxp1.pkl\n",
            "*** max_plasmids= 5\n",
            ".  1: Simulation executed (nexpe=305)\n",
            ".  2: Simulation executed (nexpe=941)\n",
            ".  3: Simulation executed (nexpe=297)\n",
            ".  4: Simulation executed (nexpe=51)\n",
            ".  5: Simulation executed (nexpe=493)\n",
            ".  6: Simulation executed (nexpe=72)\n",
            ".  7: Simulation executed (nexpe=11)\n",
            ".  8: Simulation executed (nexpe=105)\n",
            ".  9: Simulation executed (nexpe=849)\n",
            ".  10: Simulation executed (nexpe=119)\n",
            "Saving /content/drive/MyDrive/SYNC_Projects/MAp/code/py-MAp/runs/test/data/MAp_days60_gens24_mut1.8e-06_maxp5.pkl\n",
            "*** max_plasmids= 10\n",
            ".  1: Simulation executed (nexpe=60)\n",
            ".  2: Simulation executed (nexpe=411)\n",
            ".  3: Simulation executed (nexpe=130)\n",
            ".  4: Simulation executed (nexpe=530)\n",
            ".  5: Simulation executed (nexpe=27)\n",
            ".  6: Simulation executed (nexpe=125)\n",
            ".  7: Simulation executed (nexpe=56)\n",
            ".  8: Simulation executed (nexpe=100)\n",
            ".  9: Simulation executed (nexpe=222)\n",
            ".  10: Simulation executed (nexpe=167)\n",
            "Saving /content/drive/MyDrive/SYNC_Projects/MAp/code/py-MAp/runs/test/data/MAp_days60_gens24_mut1.8e-06_maxp10.pkl\n",
            "*** max_plasmids= 50\n",
            ".  1: Simulation executed (nexpe=73)\n",
            ".  2: Simulation executed (nexpe=130)\n",
            ".  3: Simulation executed (nexpe=109)\n",
            ".  4: Simulation executed (nexpe=88)\n",
            ".  5: Simulation executed (nexpe=129)\n",
            ".  6: Simulation executed (nexpe=137)\n",
            ".  7: Simulation executed (nexpe=345)\n",
            ".  8: Simulation executed (nexpe=117)\n",
            ".  9: Simulation executed (nexpe=344)\n",
            ".  10: Simulation executed (nexpe=184)\n",
            "Saving /content/drive/MyDrive/SYNC_Projects/MAp/code/py-MAp/runs/test/data/MAp_days60_gens24_mut1.8e-06_maxp50.pkl\n",
            "*** max_plasmids= 100\n",
            ".  1: Simulation executed (nexpe=762)\n",
            ".  2: Simulation executed (nexpe=11)\n",
            ".  3: Simulation executed (nexpe=179)\n",
            ".  4: Simulation executed (nexpe=92)\n",
            ".  5: Simulation executed (nexpe=117)\n",
            ".  6: Simulation executed (nexpe=106)\n",
            ".  7: Simulation executed (nexpe=96)\n",
            ".  8: Simulation executed (nexpe=501)\n",
            ".  9: Simulation executed (nexpe=205)\n",
            ".  10: Simulation executed (nexpe=495)\n",
            "Saving /content/drive/MyDrive/SYNC_Projects/MAp/code/py-MAp/runs/test/data/MAp_days60_gens24_mut1.8e-06_maxp100.pkl\n"
          ]
        }
      ],
      "source": [
        "\n",
        "\n",
        "sim_results=[]\n",
        "if True: #To run, or not to run\n",
        "  for this_max_plasmids in max_plasmids:\n",
        "    print(\"*** max_plasmids=\",this_max_plasmids)\n",
        "    experiment_results=runExperiments(this_max_plasmids, True)\n",
        "    sim_results.append(experiment_results)"
      ]
    }
  ],
  "metadata": {
    "colab": {
      "provenance": []
    },
    "kernelspec": {
      "display_name": "Python 3",
      "language": "python",
      "name": "python3"
    },
    "language_info": {
      "codemirror_mode": {
        "name": "ipython",
        "version": 3
      },
      "file_extension": ".py",
      "mimetype": "text/x-python",
      "name": "python",
      "nbconvert_exporter": "python",
      "pygments_lexer": "ipython3",
      "version": "3.7.6"
    }
  },
  "nbformat": 4,
  "nbformat_minor": 0
}